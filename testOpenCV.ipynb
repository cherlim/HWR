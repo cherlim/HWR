{
  "nbformat": 4,
  "nbformat_minor": 0,
  "metadata": {
    "colab": {
      "name": "testOpenCV.ipynb",
      "provenance": [],
      "authorship_tag": "ABX9TyPT5B0Om1DTQ4GjVc9nos2X",
      "include_colab_link": true
    },
    "kernelspec": {
      "name": "python3",
      "display_name": "Python 3"
    },
    "language_info": {
      "name": "python"
    }
  },
  "cells": [
    {
      "cell_type": "markdown",
      "metadata": {
        "id": "view-in-github",
        "colab_type": "text"
      },
      "source": [
        "<a href=\"https://colab.research.google.com/github/cherlim/HWR/blob/main/testOpenCV.ipynb\" target=\"_parent\"><img src=\"https://colab.research.google.com/assets/colab-badge.svg\" alt=\"Open In Colab\"/></a>"
      ]
    },
    {
      "cell_type": "code",
      "metadata": {
        "colab": {
          "base_uri": "https://localhost:8080/"
        },
        "id": "IoKNDD_9feGj",
        "outputId": "ac7224da-aa9f-4d2a-8f57-c49f7ce44a0b"
      },
      "source": [
        "#Import the essential libraries\n",
        "!pip install -q gradio\n",
        "!pip install imutils\n",
        "import gradio as gr\n",
        "import cv2\n",
        "import tensorflow as tf\n",
        "import matplotlib.pyplot as plt\n",
        "import seaborn as sns\n",
        "import numpy as np\n",
        "import pandas as pd\n",
        "import math\n",
        "import imutils"
      ],
      "execution_count": 1,
      "outputs": [
        {
          "output_type": "stream",
          "name": "stdout",
          "text": [
            "\u001b[K     |████████████████████████████████| 979 kB 5.3 MB/s \n",
            "\u001b[K     |████████████████████████████████| 206 kB 48.7 MB/s \n",
            "\u001b[K     |████████████████████████████████| 1.9 MB 24.5 MB/s \n",
            "\u001b[K     |████████████████████████████████| 63 kB 2.6 MB/s \n",
            "\u001b[K     |████████████████████████████████| 961 kB 71.0 MB/s \n",
            "\u001b[K     |████████████████████████████████| 3.6 MB 23.7 MB/s \n",
            "\u001b[?25h  Building wheel for ffmpy (setup.py) ... \u001b[?25l\u001b[?25hdone\n",
            "  Building wheel for flask-cachebuster (setup.py) ... \u001b[?25l\u001b[?25hdone\n",
            "Requirement already satisfied: imutils in /usr/local/lib/python3.7/dist-packages (0.5.4)\n"
          ]
        }
      ]
    },
    {
      "cell_type": "code",
      "metadata": {
        "colab": {
          "base_uri": "https://localhost:8080/"
        },
        "id": "NJ58z8vBfYG_",
        "outputId": "263bcd9a-9019-4078-b42d-d473ea99ccdf"
      },
      "source": [
        "#Load the pre-trained CNN model \n",
        "!wget --no-clobber --no-check-certificate 'https://docs.google.com/uc?export=download&id=1nWTW0y9K9fvauqBw2Ug-gikqdQPwwirj' -O './model_cnn.h5'\n",
        "model_cnn = tf.keras.models.load_model(\"model_cnn.h5\")"
      ],
      "execution_count": 2,
      "outputs": [
        {
          "output_type": "stream",
          "name": "stdout",
          "text": [
            "--2021-11-28 08:07:24--  https://docs.google.com/uc?export=download&id=1nWTW0y9K9fvauqBw2Ug-gikqdQPwwirj\n",
            "Resolving docs.google.com (docs.google.com)... 108.177.12.139, 108.177.12.113, 108.177.12.102, ...\n",
            "Connecting to docs.google.com (docs.google.com)|108.177.12.139|:443... connected.\n",
            "HTTP request sent, awaiting response... 302 Moved Temporarily\n",
            "Location: https://doc-0c-bo-docs.googleusercontent.com/docs/securesc/ha0ro937gcuc7l7deffksulhg5h7mbp1/jhc2b07tso4une395ruklim23u2602gf/1638086775000/00138594504398630894/*/1nWTW0y9K9fvauqBw2Ug-gikqdQPwwirj?e=download [following]\n",
            "Warning: wildcards not supported in HTTP.\n",
            "--2021-11-28 08:07:24--  https://doc-0c-bo-docs.googleusercontent.com/docs/securesc/ha0ro937gcuc7l7deffksulhg5h7mbp1/jhc2b07tso4une395ruklim23u2602gf/1638086775000/00138594504398630894/*/1nWTW0y9K9fvauqBw2Ug-gikqdQPwwirj?e=download\n",
            "Resolving doc-0c-bo-docs.googleusercontent.com (doc-0c-bo-docs.googleusercontent.com)... 172.217.203.132, 2607:f8b0:400c:c07::84\n",
            "Connecting to doc-0c-bo-docs.googleusercontent.com (doc-0c-bo-docs.googleusercontent.com)|172.217.203.132|:443... connected.\n",
            "HTTP request sent, awaiting response... 200 OK\n",
            "Length: 498896 (487K) [application/octet-stream]\n",
            "Saving to: ‘./model_cnn.h5’\n",
            "\n",
            "./model_cnn.h5      100%[===================>] 487.20K  --.-KB/s    in 0.004s  \n",
            "\n",
            "2021-11-28 08:07:24 (110 MB/s) - ‘./model_cnn.h5’ saved [498896/498896]\n",
            "\n"
          ]
        }
      ]
    },
    {
      "cell_type": "code",
      "metadata": {
        "colab": {
          "base_uri": "https://localhost:8080/"
        },
        "id": "0u3Hb-Kq1H0Z",
        "outputId": "0817b7f3-0f4d-462c-a39f-57d735c93569"
      },
      "source": [
        "!wget --no-clobber --no-check-certificate 'https://docs.google.com/uc?export=download&id=1yvUuT1xm8WrST8gGd2aUNyuqWiNMgzpM' -O './model_dnn.h5'\n",
        "#https://drive.google.com/file/d/1yvUuT1xm8WrST8gGd2aUNyuqWiNMgzpM/view?usp=sharing'\n",
        "model_dnn = tf.keras.models.load_model(\"model_dnn.h5\")"
      ],
      "execution_count": 3,
      "outputs": [
        {
          "output_type": "stream",
          "name": "stdout",
          "text": [
            "--2021-11-28 08:07:25--  https://docs.google.com/uc?export=download&id=1yvUuT1xm8WrST8gGd2aUNyuqWiNMgzpM\n",
            "Resolving docs.google.com (docs.google.com)... 108.177.12.100, 108.177.12.113, 108.177.12.102, ...\n",
            "Connecting to docs.google.com (docs.google.com)|108.177.12.100|:443... connected.\n",
            "HTTP request sent, awaiting response... 302 Moved Temporarily\n",
            "Location: https://doc-14-bo-docs.googleusercontent.com/docs/securesc/ha0ro937gcuc7l7deffksulhg5h7mbp1/i51j8mnb93s7br0cksd7c8ovtsfp6rd4/1638086775000/00138594504398630894/*/1yvUuT1xm8WrST8gGd2aUNyuqWiNMgzpM?e=download [following]\n",
            "Warning: wildcards not supported in HTTP.\n",
            "--2021-11-28 08:07:28--  https://doc-14-bo-docs.googleusercontent.com/docs/securesc/ha0ro937gcuc7l7deffksulhg5h7mbp1/i51j8mnb93s7br0cksd7c8ovtsfp6rd4/1638086775000/00138594504398630894/*/1yvUuT1xm8WrST8gGd2aUNyuqWiNMgzpM?e=download\n",
            "Resolving doc-14-bo-docs.googleusercontent.com (doc-14-bo-docs.googleusercontent.com)... 172.217.203.132, 2607:f8b0:400c:c07::84\n",
            "Connecting to doc-14-bo-docs.googleusercontent.com (doc-14-bo-docs.googleusercontent.com)|172.217.203.132|:443... connected.\n",
            "HTTP request sent, awaiting response... 200 OK\n",
            "Length: 7506696 (7.2M) [application/octet-stream]\n",
            "Saving to: ‘./model_dnn.h5’\n",
            "\n",
            "./model_dnn.h5      100%[===================>]   7.16M  21.5MB/s    in 0.3s    \n",
            "\n",
            "2021-11-28 08:07:29 (21.5 MB/s) - ‘./model_dnn.h5’ saved [7506696/7506696]\n",
            "\n"
          ]
        }
      ]
    },
    {
      "cell_type": "code",
      "metadata": {
        "colab": {
          "base_uri": "https://localhost:8080/"
        },
        "id": "QNCEM13CqjgE",
        "outputId": "0d3c8a48-375f-49e9-f17f-266d4c544fcb"
      },
      "source": [
        "model_dnn.summary()"
      ],
      "execution_count": 12,
      "outputs": [
        {
          "output_type": "stream",
          "name": "stdout",
          "text": [
            "Model: \"sequential\"\n",
            "_________________________________________________________________\n",
            " Layer (type)                Output Shape              Param #   \n",
            "=================================================================\n",
            " flatten (Flatten)           (None, 784)               0         \n",
            "                                                                 \n",
            " dense (Dense)               (None, 784)               615440    \n",
            "                                                                 \n",
            " dense_1 (Dense)             (None, 10)                7850      \n",
            "                                                                 \n",
            "=================================================================\n",
            "Total params: 623,290\n",
            "Trainable params: 623,290\n",
            "Non-trainable params: 0\n",
            "_________________________________________________________________\n"
          ]
        }
      ]
    },
    {
      "cell_type": "code",
      "metadata": {
        "colab": {
          "base_uri": "https://localhost:8080/"
        },
        "id": "F6yjTeHVqoWi",
        "outputId": "f1dd8908-302f-4e59-ddab-2f3a0560be75"
      },
      "source": [
        "model_cnn.summary()"
      ],
      "execution_count": 13,
      "outputs": [
        {
          "output_type": "stream",
          "name": "stdout",
          "text": [
            "Model: \"sequential\"\n",
            "_________________________________________________________________\n",
            " Layer (type)                Output Shape              Param #   \n",
            "=================================================================\n",
            " conv2d (Conv2D)             (None, 24, 24, 8)         208       \n",
            "                                                                 \n",
            " max_pooling2d (MaxPooling2D  (None, 12, 12, 8)        0         \n",
            " )                                                               \n",
            "                                                                 \n",
            " conv2d_1 (Conv2D)           (None, 8, 8, 16)          3216      \n",
            "                                                                 \n",
            " max_pooling2d_1 (MaxPooling  (None, 4, 4, 16)         0         \n",
            " 2D)                                                             \n",
            "                                                                 \n",
            " flatten (Flatten)           (None, 256)               0         \n",
            "                                                                 \n",
            " dense (Dense)               (None, 128)               32896     \n",
            "                                                                 \n",
            " dropout (Dropout)           (None, 128)               0         \n",
            "                                                                 \n",
            " dense_1 (Dense)             (None, 10)                1290      \n",
            "                                                                 \n",
            "=================================================================\n",
            "Total params: 37,610\n",
            "Trainable params: 37,610\n",
            "Non-trainable params: 0\n",
            "_________________________________________________________________\n"
          ]
        }
      ]
    },
    {
      "cell_type": "code",
      "metadata": {
        "id": "j6g2IJ2Oq7d3"
      },
      "source": [
        "#pip install --upgrade imutils"
      ],
      "execution_count": 4,
      "outputs": []
    },
    {
      "cell_type": "code",
      "metadata": {
        "id": "pk0fV4WpflWa"
      },
      "source": [
        "def center_image(image):\n",
        "  height, width = image.shape\n",
        "\n",
        "  gray = np.zeros_like(image)\n",
        "  cnts = cv2.findContours(image, cv2.RETR_EXTERNAL, cv2.CHAIN_APPROX_SIMPLE)\n",
        "  cnts = imutils.grab_contours(cnts) #return the number of contours in canvas\n",
        "\n",
        "  #Find the center of image\n",
        "  for c in cnts:\n",
        "    M = cv2.moments(c)\n",
        "    cX = int(M[\"m10\"] / M[\"m00\"])\n",
        "    cY = int(M[\"m01\"] / M[\"m00\"])\n",
        "  \n",
        "  #Center the image\n",
        "  offsetX = (width/2-cX)\n",
        "  offsetY = (height/2-cY)\n",
        "  T = np.float32([[1, 0, offsetX], [0, 1, offsetY]]) \n",
        "  centered_image = cv2.warpAffine(image, T, (width, height))\n",
        "  return centered_image"
      ],
      "execution_count": 5,
      "outputs": []
    },
    {
      "cell_type": "code",
      "metadata": {
        "id": "1XMG3fmp1nV9"
      },
      "source": [
        "#Prepare image for basic NN model\n",
        "def BasicModel_no_center(image):\n",
        "    image_reshape = image.reshape(1, 28, 28) # basic model input layer shape\n",
        "    image_resize = image_reshape/255.0\n",
        "    y_pred_onehot = model_dnn.predict(image_resize)\n",
        "    prediction = np.argmax(y_pred_onehot)\n",
        "    return prediction"
      ],
      "execution_count": 6,
      "outputs": []
    },
    {
      "cell_type": "code",
      "metadata": {
        "id": "Bk1bQnIw1n7n"
      },
      "source": [
        "#Prepare image for basic NN model\n",
        "def BasicModel(image):\n",
        "    image_center = center_image(image)\n",
        "    image_reshape = image_center.reshape(1, 28, 28) # basic model input layer shape\n",
        "    image_resize = image_reshape/255.0\n",
        "    y_pred_onehot = model_dnn.predict(image_resize)\n",
        "    prediction = np.argmax(y_pred_onehot)\n",
        "    return prediction"
      ],
      "execution_count": 7,
      "outputs": []
    },
    {
      "cell_type": "code",
      "metadata": {
        "id": "WazYD_ZvoXjl"
      },
      "source": [
        "#Prepare image for CNN model\n",
        "def CNN_no_center(image):\n",
        "    #image_center = center_image(image)\n",
        "    image_reshape = image.reshape(1, 28, 28, 1) # CNN model input layer shape\n",
        "    image_resize = image_reshape/255.0\n",
        "    y_pred_onehot = model_cnn.predict(image_resize)\n",
        "    prediction = np.argmax(y_pred_onehot)\n",
        "    return prediction"
      ],
      "execution_count": 8,
      "outputs": []
    },
    {
      "cell_type": "code",
      "metadata": {
        "id": "DmiuZ64KjXpJ"
      },
      "source": [
        "#Prepare image for CNN model\n",
        "def CNN(image):\n",
        "    image_center = center_image(image)\n",
        "    image_reshape = image_center.reshape(1, 28, 28, 1) # CNN model input layer shape\n",
        "    image_resize = image_reshape/255.0\n",
        "    y_pred_onehot = model_cnn.predict(image_resize)\n",
        "    prediction = np.argmax(y_pred_onehot)\n",
        "    return prediction"
      ],
      "execution_count": 9,
      "outputs": []
    },
    {
      "cell_type": "code",
      "metadata": {
        "id": "zqrkg9SSjYVd"
      },
      "source": [
        "# launching the interface\n",
        "user_input=gr.Interface([BasicModel_no_center, BasicModel, CNN], inputs = \"sketchpad\", outputs = \"label\")\n",
        "#user_input=gr.Interface(CNN, inputs = \"sketchpad\", outputs = \"label\")"
      ],
      "execution_count": 10,
      "outputs": []
    },
    {
      "cell_type": "code",
      "metadata": {
        "colab": {
          "base_uri": "https://localhost:8080/",
          "height": 643
        },
        "id": "k_fmy5jWjbYf",
        "outputId": "d72897ca-56f8-48ca-8c55-c67950ad6785"
      },
      "source": [
        "user_input.launch()"
      ],
      "execution_count": 11,
      "outputs": [
        {
          "output_type": "stream",
          "name": "stdout",
          "text": [
            "Colab notebook detected. To show errors in colab notebook, set `debug=True` in `launch()`\n",
            "Running on public URL: https://39306.gradio.app\n",
            "\n",
            "This share link will expire in 72 hours. To get longer links, send an email to: support@gradio.app\n"
          ]
        },
        {
          "output_type": "display_data",
          "data": {
            "text/html": [
              "\n",
              "        <iframe\n",
              "            width=\"900\"\n",
              "            height=\"500\"\n",
              "            src=\"https://39306.gradio.app\"\n",
              "            frameborder=\"0\"\n",
              "            allowfullscreen\n",
              "        ></iframe>\n",
              "        "
            ],
            "text/plain": [
              "<IPython.lib.display.IFrame at 0x7f412bbc3f10>"
            ]
          },
          "metadata": {}
        },
        {
          "output_type": "execute_result",
          "data": {
            "text/plain": [
              "(<Flask 'gradio.networking'>,\n",
              " 'http://127.0.0.1:7860/',\n",
              " 'https://39306.gradio.app')"
            ]
          },
          "metadata": {},
          "execution_count": 11
        }
      ]
    }
  ]
}